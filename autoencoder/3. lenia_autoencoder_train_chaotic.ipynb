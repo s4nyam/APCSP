{
  "nbformat": 4,
  "nbformat_minor": 0,
  "metadata": {
    "colab": {
      "provenance": []
    },
    "kernelspec": {
      "name": "python3",
      "display_name": "Python 3"
    },
    "language_info": {
      "name": "python"
    },
    "gpuClass": "standard"
  },
  "cells": [
    {
      "cell_type": "code",
      "source": [
        "from google.colab import drive\n",
        "drive.mount('/content/drive')\n",
        "%cd /content/drive/MyDrive/"
      ],
      "metadata": {
        "colab": {
          "base_uri": "https://localhost:8080/"
        },
        "id": "TeVaoUuG8w-T",
        "outputId": "f5c44de4-a1b8-4b78-ad35-4e5ecf9d48a1"
      },
      "execution_count": 1,
      "outputs": [
        {
          "output_type": "stream",
          "name": "stdout",
          "text": [
            "Mounted at /content/drive\n",
            "/content/drive/MyDrive\n"
          ]
        }
      ]
    },
    {
      "cell_type": "code",
      "source": [
        "!ls /content/drive/MyDrive/lenia_dataset_chaotic | wc -l"
      ],
      "metadata": {
        "colab": {
          "base_uri": "https://localhost:8080/"
        },
        "id": "SzMOr2sCFgiQ",
        "outputId": "1280d65c-846c-4dc9-d84b-791f8f45f9d6"
      },
      "execution_count": 2,
      "outputs": [
        {
          "output_type": "stream",
          "name": "stdout",
          "text": [
            "71\n"
          ]
        }
      ]
    },
    {
      "cell_type": "code",
      "source": [
        "# import os\n",
        "# import random\n",
        "\n",
        "# def delete_random_files(folder_path, num_files):\n",
        "#     # Get a list of all the files in the folder\n",
        "#     files = os.listdir(folder_path)\n",
        "#     # Shuffle the list of files randomly\n",
        "#     random.shuffle(files)\n",
        "#     # Loop over the shuffled list and delete the first num_files files\n",
        "#     for filename in files[:num_files]:\n",
        "#         # Get the full path of the file\n",
        "#         file_path = os.path.join(folder_path, filename)\n",
        "#         # Delete the file\n",
        "#         os.remove(file_path)\n",
        "#         # print(f\"Deleted file: {file_path}\")\n",
        "\n",
        "# # Example usage\n",
        "# folder_path = \"/content/drive/MyDrive/lenia_dataset\"\n",
        "# num_files_to_delete = 6950\n",
        "# delete_random_files(folder_path, num_files_to_delete)\n"
      ],
      "metadata": {
        "id": "wKcYc9yuUp6m"
      },
      "execution_count": 3,
      "outputs": []
    },
    {
      "cell_type": "code",
      "source": [
        "!ls /content/drive/MyDrive/lenia_dataset_chaotic | wc -l"
      ],
      "metadata": {
        "colab": {
          "base_uri": "https://localhost:8080/"
        },
        "id": "amFIjYiRU91m",
        "outputId": "a845bd41-8cf5-475c-c939-34e3935a1537"
      },
      "execution_count": 4,
      "outputs": [
        {
          "output_type": "stream",
          "name": "stdout",
          "text": [
            "71\n"
          ]
        }
      ]
    },
    {
      "cell_type": "code",
      "source": [
        "import os\n",
        "import cv2\n",
        "import numpy as np\n",
        "from sklearn.model_selection import train_test_split\n",
        "\n",
        "# Set the path to the folder containing the images\n",
        "folder_path = \"/content/drive/MyDrive/lenia_dataset_chaotic/\"\n",
        "\n",
        "# Initialize lists to hold the image data and labels\n",
        "data = []\n",
        "\n",
        "# Loop over the files in the folder\n",
        "for filename in os.listdir(folder_path):\n",
        "    # Load the image using OpenCV\n",
        "    img = cv2.imread(os.path.join(folder_path, filename))\n",
        "    # Convert the image to grayscale\n",
        "    gray = cv2.cvtColor(img, cv2.COLOR_BGR2GRAY)\n",
        "    # Resize the image to a fixed size\n",
        "    resized = cv2.resize(gray, (28, 28))\n",
        "    # Add the image data to the list\n",
        "    data.append(resized)\n",
        "    # Add the label to the list\n",
        "\n",
        "# Convert the lists to numpy arrays\n",
        "data = np.array(data)\n",
        "\n",
        "# Split the data into training and testing sets\n"
      ],
      "metadata": {
        "id": "PVrlDRbAR1DM"
      },
      "execution_count": 5,
      "outputs": []
    },
    {
      "cell_type": "code",
      "source": [
        "xtrain, xtest = train_test_split(data, test_size=0.3, random_state=2)\n"
      ],
      "metadata": {
        "id": "hxKS-k9PachM"
      },
      "execution_count": 6,
      "outputs": []
    },
    {
      "cell_type": "code",
      "source": [
        "X_train = xtrain.reshape(xtrain.shape[0], 28, 28, 1)\n",
        "X_test = xtest.reshape(xtest.shape[0], 28, 28, 1)"
      ],
      "metadata": {
        "id": "hVnVmgFoak-7"
      },
      "execution_count": 7,
      "outputs": []
    },
    {
      "cell_type": "code",
      "source": [
        "import keras\n",
        "import numpy as np\n",
        "import matplotlib.pyplot as plt\n",
        "%matplotlib inline\n",
        "from keras.layers import Layer\n",
        "from keras.datasets import mnist\n",
        "from keras.models import Model\n",
        "from keras.layers import Input, add\n",
        "from keras.layers.core import Dense, Dropout, Activation, Flatten, Reshape\n",
        "from keras import regularizers\n",
        "from keras.regularizers import l2\n",
        "from keras.layers.convolutional import Conv2D, MaxPooling2D, UpSampling2D, ZeroPadding2D\n",
        "from keras.utils import np_utils"
      ],
      "metadata": {
        "id": "o4HDmElbT3vW"
      },
      "execution_count": 8,
      "outputs": []
    },
    {
      "cell_type": "code",
      "source": [
        "X_train = X_train.astype(\"float32\")/255.\n",
        "X_test = X_test.astype(\"float32\")/255.\n",
        "\n",
        "print('X_train shape:', X_train.shape)\n",
        "print(X_train.shape[0], 'train samples')\n",
        "print(X_test.shape[0], 'test samples')"
      ],
      "metadata": {
        "colab": {
          "base_uri": "https://localhost:8080/"
        },
        "id": "CG_NV0yoUYFJ",
        "outputId": "ee0c274f-55eb-400e-8b7b-ef62594c8c29"
      },
      "execution_count": 9,
      "outputs": [
        {
          "output_type": "stream",
          "name": "stdout",
          "text": [
            "X_train shape: (49, 28, 28, 1)\n",
            "49 train samples\n",
            "22 test samples\n"
          ]
        }
      ]
    },
    {
      "cell_type": "code",
      "source": [
        "X_train = X_train.reshape((len(X_train), np.prod(X_train.shape[1:])))\n",
        "X_test = X_test.reshape((len(X_test), np.prod(X_test.shape[1:])))"
      ],
      "metadata": {
        "id": "AIAPAmWQeiCn"
      },
      "execution_count": 10,
      "outputs": []
    },
    {
      "cell_type": "code",
      "source": [
        "input_size = 784\n",
        "hidden_size = 64\n",
        "output_size = 784"
      ],
      "metadata": {
        "id": "bUUrrS5BemKx"
      },
      "execution_count": 11,
      "outputs": []
    },
    {
      "cell_type": "code",
      "source": [
        "x = Input(shape=(input_size,))\n",
        "h = Dense(hidden_size, activation='relu')(x)\n",
        "r = Dense(output_size, activation='sigmoid')(h)\n",
        "\n",
        "autoencoder = Model(inputs=x, outputs=r)\n",
        "autoencoder.compile(optimizer='adam', loss='mse')"
      ],
      "metadata": {
        "id": "NZ1kOsbaerAl"
      },
      "execution_count": 12,
      "outputs": []
    },
    {
      "cell_type": "code",
      "source": [
        "from IPython.display import SVG\n",
        "from keras.utils.vis_utils import model_to_dot\n",
        "\n",
        "SVG(model_to_dot(autoencoder).create(prog='dot', format='svg'))"
      ],
      "metadata": {
        "colab": {
          "base_uri": "https://localhost:8080/",
          "height": 361
        },
        "id": "Elx0KmSuesZL",
        "outputId": "de2842cc-87fb-4e72-e0a2-6aa3240ead70"
      },
      "execution_count": 13,
      "outputs": [
        {
          "output_type": "execute_result",
          "data": {
            "text/plain": [
              "<IPython.core.display.SVG object>"
            ],
            "image/svg+xml": "<svg xmlns=\"http://www.w3.org/2000/svg\" xmlns:xlink=\"http://www.w3.org/1999/xlink\" width=\"191pt\" height=\"255pt\" viewBox=\"0.00 0.00 143.00 191.00\">\n<g id=\"graph0\" class=\"graph\" transform=\"scale(0.75 0.75) rotate(0) translate(4 187)\">\n<title>G</title>\n<polygon fill=\"white\" stroke=\"transparent\" points=\"-4,4 -4,-187 139,-187 139,4 -4,4\"/>\n<!-- 139629293038176 -->\n<g id=\"node1\" class=\"node\">\n<title>139629293038176</title>\n<polygon fill=\"none\" stroke=\"black\" points=\"0,-146.5 0,-182.5 135,-182.5 135,-146.5 0,-146.5\"/>\n<text text-anchor=\"middle\" x=\"29\" y=\"-160.8\" font-family=\"Times,serif\" font-size=\"14.00\">input_1</text>\n<polyline fill=\"none\" stroke=\"black\" points=\"58,-146.5 58,-182.5 \"/>\n<text text-anchor=\"middle\" x=\"96.5\" y=\"-160.8\" font-family=\"Times,serif\" font-size=\"14.00\">InputLayer</text>\n</g>\n<!-- 139629293038128 -->\n<g id=\"node2\" class=\"node\">\n<title>139629293038128</title>\n<polygon fill=\"none\" stroke=\"black\" points=\"19,-73.5 19,-109.5 116,-109.5 116,-73.5 19,-73.5\"/>\n<text text-anchor=\"middle\" x=\"42.5\" y=\"-87.8\" font-family=\"Times,serif\" font-size=\"14.00\">dense</text>\n<polyline fill=\"none\" stroke=\"black\" points=\"66,-73.5 66,-109.5 \"/>\n<text text-anchor=\"middle\" x=\"91\" y=\"-87.8\" font-family=\"Times,serif\" font-size=\"14.00\">Dense</text>\n</g>\n<!-- 139629293038176&#45;&gt;139629293038128 -->\n<g id=\"edge1\" class=\"edge\">\n<title>139629293038176-&gt;139629293038128</title>\n<path fill=\"none\" stroke=\"black\" d=\"M67.5,-146.31C67.5,-138.29 67.5,-128.55 67.5,-119.57\"/>\n<polygon fill=\"black\" stroke=\"black\" points=\"71,-119.53 67.5,-109.53 64,-119.53 71,-119.53\"/>\n</g>\n<!-- 139629292722928 -->\n<g id=\"node3\" class=\"node\">\n<title>139629292722928</title>\n<polygon fill=\"none\" stroke=\"black\" points=\"12,-0.5 12,-36.5 123,-36.5 123,-0.5 12,-0.5\"/>\n<text text-anchor=\"middle\" x=\"42.5\" y=\"-14.8\" font-family=\"Times,serif\" font-size=\"14.00\">dense_1</text>\n<polyline fill=\"none\" stroke=\"black\" points=\"73,-0.5 73,-36.5 \"/>\n<text text-anchor=\"middle\" x=\"98\" y=\"-14.8\" font-family=\"Times,serif\" font-size=\"14.00\">Dense</text>\n</g>\n<!-- 139629293038128&#45;&gt;139629292722928 -->\n<g id=\"edge2\" class=\"edge\">\n<title>139629293038128-&gt;139629292722928</title>\n<path fill=\"none\" stroke=\"black\" d=\"M67.5,-73.31C67.5,-65.29 67.5,-55.55 67.5,-46.57\"/>\n<polygon fill=\"black\" stroke=\"black\" points=\"71,-46.53 67.5,-36.53 64,-46.53 71,-46.53\"/>\n</g>\n</g>\n</svg>"
          },
          "metadata": {},
          "execution_count": 13
        }
      ]
    },
    {
      "cell_type": "code",
      "source": [
        "epochs = 300\n",
        "batch_size = 128\n",
        "\n",
        "history = autoencoder.fit(X_train, X_train, batch_size=batch_size, epochs=epochs, verbose=1, validation_data=(X_test, X_test))\n"
      ],
      "metadata": {
        "colab": {
          "base_uri": "https://localhost:8080/"
        },
        "id": "8bXE6xFXet1a",
        "outputId": "054d08cd-4982-4fdb-b4e9-c57b88abd013"
      },
      "execution_count": 14,
      "outputs": [
        {
          "output_type": "stream",
          "name": "stdout",
          "text": [
            "Epoch 1/300\n",
            "1/1 [==============================] - 1s 848ms/step - loss: 0.0543 - val_loss: 0.0541\n",
            "Epoch 2/300\n",
            "1/1 [==============================] - 0s 46ms/step - loss: 0.0517 - val_loss: 0.0522\n",
            "Epoch 3/300\n",
            "1/1 [==============================] - 0s 40ms/step - loss: 0.0498 - val_loss: 0.0503\n",
            "Epoch 4/300\n",
            "1/1 [==============================] - 0s 38ms/step - loss: 0.0480 - val_loss: 0.0482\n",
            "Epoch 5/300\n",
            "1/1 [==============================] - 0s 38ms/step - loss: 0.0459 - val_loss: 0.0458\n",
            "Epoch 6/300\n",
            "1/1 [==============================] - 0s 41ms/step - loss: 0.0435 - val_loss: 0.0432\n",
            "Epoch 7/300\n",
            "1/1 [==============================] - 0s 39ms/step - loss: 0.0410 - val_loss: 0.0405\n",
            "Epoch 8/300\n",
            "1/1 [==============================] - 0s 40ms/step - loss: 0.0382 - val_loss: 0.0377\n",
            "Epoch 9/300\n",
            "1/1 [==============================] - 0s 37ms/step - loss: 0.0355 - val_loss: 0.0348\n",
            "Epoch 10/300\n",
            "1/1 [==============================] - 0s 37ms/step - loss: 0.0327 - val_loss: 0.0321\n",
            "Epoch 11/300\n",
            "1/1 [==============================] - 0s 38ms/step - loss: 0.0300 - val_loss: 0.0294\n",
            "Epoch 12/300\n",
            "1/1 [==============================] - 0s 41ms/step - loss: 0.0274 - val_loss: 0.0270\n",
            "Epoch 13/300\n",
            "1/1 [==============================] - 0s 39ms/step - loss: 0.0250 - val_loss: 0.0248\n",
            "Epoch 14/300\n",
            "1/1 [==============================] - 0s 40ms/step - loss: 0.0228 - val_loss: 0.0228\n",
            "Epoch 15/300\n",
            "1/1 [==============================] - 0s 38ms/step - loss: 0.0209 - val_loss: 0.0210\n",
            "Epoch 16/300\n",
            "1/1 [==============================] - 0s 37ms/step - loss: 0.0192 - val_loss: 0.0195\n",
            "Epoch 17/300\n",
            "1/1 [==============================] - 0s 70ms/step - loss: 0.0176 - val_loss: 0.0182\n",
            "Epoch 18/300\n",
            "1/1 [==============================] - 0s 37ms/step - loss: 0.0163 - val_loss: 0.0170\n",
            "Epoch 19/300\n",
            "1/1 [==============================] - 0s 39ms/step - loss: 0.0151 - val_loss: 0.0160\n",
            "Epoch 20/300\n",
            "1/1 [==============================] - 0s 40ms/step - loss: 0.0141 - val_loss: 0.0152\n",
            "Epoch 21/300\n",
            "1/1 [==============================] - 0s 43ms/step - loss: 0.0133 - val_loss: 0.0145\n",
            "Epoch 22/300\n",
            "1/1 [==============================] - 0s 43ms/step - loss: 0.0125 - val_loss: 0.0139\n",
            "Epoch 23/300\n",
            "1/1 [==============================] - 0s 35ms/step - loss: 0.0119 - val_loss: 0.0134\n",
            "Epoch 24/300\n",
            "1/1 [==============================] - 0s 37ms/step - loss: 0.0114 - val_loss: 0.0130\n",
            "Epoch 25/300\n",
            "1/1 [==============================] - 0s 42ms/step - loss: 0.0110 - val_loss: 0.0127\n",
            "Epoch 26/300\n",
            "1/1 [==============================] - 0s 44ms/step - loss: 0.0107 - val_loss: 0.0125\n",
            "Epoch 27/300\n",
            "1/1 [==============================] - 0s 37ms/step - loss: 0.0104 - val_loss: 0.0123\n",
            "Epoch 28/300\n",
            "1/1 [==============================] - 0s 41ms/step - loss: 0.0102 - val_loss: 0.0122\n",
            "Epoch 29/300\n",
            "1/1 [==============================] - 0s 41ms/step - loss: 0.0100 - val_loss: 0.0121\n",
            "Epoch 30/300\n",
            "1/1 [==============================] - 0s 37ms/step - loss: 0.0099 - val_loss: 0.0120\n",
            "Epoch 31/300\n",
            "1/1 [==============================] - 0s 38ms/step - loss: 0.0098 - val_loss: 0.0119\n",
            "Epoch 32/300\n",
            "1/1 [==============================] - 0s 38ms/step - loss: 0.0097 - val_loss: 0.0118\n",
            "Epoch 33/300\n",
            "1/1 [==============================] - 0s 34ms/step - loss: 0.0096 - val_loss: 0.0117\n",
            "Epoch 34/300\n",
            "1/1 [==============================] - 0s 34ms/step - loss: 0.0095 - val_loss: 0.0116\n",
            "Epoch 35/300\n",
            "1/1 [==============================] - 0s 36ms/step - loss: 0.0094 - val_loss: 0.0115\n",
            "Epoch 36/300\n",
            "1/1 [==============================] - 0s 36ms/step - loss: 0.0093 - val_loss: 0.0114\n",
            "Epoch 37/300\n",
            "1/1 [==============================] - 0s 35ms/step - loss: 0.0092 - val_loss: 0.0113\n",
            "Epoch 38/300\n",
            "1/1 [==============================] - 0s 38ms/step - loss: 0.0091 - val_loss: 0.0113\n",
            "Epoch 39/300\n",
            "1/1 [==============================] - 0s 37ms/step - loss: 0.0090 - val_loss: 0.0112\n",
            "Epoch 40/300\n",
            "1/1 [==============================] - 0s 38ms/step - loss: 0.0089 - val_loss: 0.0111\n",
            "Epoch 41/300\n",
            "1/1 [==============================] - 0s 44ms/step - loss: 0.0089 - val_loss: 0.0111\n",
            "Epoch 42/300\n",
            "1/1 [==============================] - 0s 39ms/step - loss: 0.0088 - val_loss: 0.0110\n",
            "Epoch 43/300\n",
            "1/1 [==============================] - 0s 39ms/step - loss: 0.0087 - val_loss: 0.0109\n",
            "Epoch 44/300\n",
            "1/1 [==============================] - 0s 37ms/step - loss: 0.0087 - val_loss: 0.0109\n",
            "Epoch 45/300\n",
            "1/1 [==============================] - 0s 38ms/step - loss: 0.0086 - val_loss: 0.0108\n",
            "Epoch 46/300\n",
            "1/1 [==============================] - 0s 37ms/step - loss: 0.0085 - val_loss: 0.0107\n",
            "Epoch 47/300\n",
            "1/1 [==============================] - 0s 40ms/step - loss: 0.0085 - val_loss: 0.0107\n",
            "Epoch 48/300\n",
            "1/1 [==============================] - 0s 46ms/step - loss: 0.0084 - val_loss: 0.0106\n",
            "Epoch 49/300\n",
            "1/1 [==============================] - 0s 36ms/step - loss: 0.0083 - val_loss: 0.0105\n",
            "Epoch 50/300\n",
            "1/1 [==============================] - 0s 44ms/step - loss: 0.0083 - val_loss: 0.0105\n",
            "Epoch 51/300\n",
            "1/1 [==============================] - 0s 37ms/step - loss: 0.0082 - val_loss: 0.0104\n",
            "Epoch 52/300\n",
            "1/1 [==============================] - 0s 40ms/step - loss: 0.0082 - val_loss: 0.0103\n",
            "Epoch 53/300\n",
            "1/1 [==============================] - 0s 38ms/step - loss: 0.0081 - val_loss: 0.0103\n",
            "Epoch 54/300\n",
            "1/1 [==============================] - 0s 42ms/step - loss: 0.0080 - val_loss: 0.0102\n",
            "Epoch 55/300\n",
            "1/1 [==============================] - 0s 38ms/step - loss: 0.0080 - val_loss: 0.0101\n",
            "Epoch 56/300\n",
            "1/1 [==============================] - 0s 42ms/step - loss: 0.0079 - val_loss: 0.0100\n",
            "Epoch 57/300\n",
            "1/1 [==============================] - 0s 46ms/step - loss: 0.0078 - val_loss: 0.0100\n",
            "Epoch 58/300\n",
            "1/1 [==============================] - 0s 38ms/step - loss: 0.0077 - val_loss: 0.0099\n",
            "Epoch 59/300\n",
            "1/1 [==============================] - 0s 37ms/step - loss: 0.0077 - val_loss: 0.0098\n",
            "Epoch 60/300\n",
            "1/1 [==============================] - 0s 36ms/step - loss: 0.0076 - val_loss: 0.0097\n",
            "Epoch 61/300\n",
            "1/1 [==============================] - 0s 43ms/step - loss: 0.0075 - val_loss: 0.0097\n",
            "Epoch 62/300\n",
            "1/1 [==============================] - 0s 39ms/step - loss: 0.0074 - val_loss: 0.0096\n",
            "Epoch 63/300\n",
            "1/1 [==============================] - 0s 40ms/step - loss: 0.0074 - val_loss: 0.0095\n",
            "Epoch 64/300\n",
            "1/1 [==============================] - 0s 44ms/step - loss: 0.0073 - val_loss: 0.0094\n",
            "Epoch 65/300\n",
            "1/1 [==============================] - 0s 50ms/step - loss: 0.0072 - val_loss: 0.0093\n",
            "Epoch 66/300\n",
            "1/1 [==============================] - 0s 52ms/step - loss: 0.0071 - val_loss: 0.0093\n",
            "Epoch 67/300\n",
            "1/1 [==============================] - 0s 39ms/step - loss: 0.0070 - val_loss: 0.0092\n",
            "Epoch 68/300\n",
            "1/1 [==============================] - 0s 38ms/step - loss: 0.0069 - val_loss: 0.0091\n",
            "Epoch 69/300\n",
            "1/1 [==============================] - 0s 39ms/step - loss: 0.0069 - val_loss: 0.0090\n",
            "Epoch 70/300\n",
            "1/1 [==============================] - 0s 39ms/step - loss: 0.0068 - val_loss: 0.0089\n",
            "Epoch 71/300\n",
            "1/1 [==============================] - 0s 36ms/step - loss: 0.0067 - val_loss: 0.0089\n",
            "Epoch 72/300\n",
            "1/1 [==============================] - 0s 37ms/step - loss: 0.0066 - val_loss: 0.0088\n",
            "Epoch 73/300\n",
            "1/1 [==============================] - 0s 39ms/step - loss: 0.0065 - val_loss: 0.0087\n",
            "Epoch 74/300\n",
            "1/1 [==============================] - 0s 39ms/step - loss: 0.0064 - val_loss: 0.0086\n",
            "Epoch 75/300\n",
            "1/1 [==============================] - 0s 42ms/step - loss: 0.0063 - val_loss: 0.0086\n",
            "Epoch 76/300\n",
            "1/1 [==============================] - 0s 38ms/step - loss: 0.0063 - val_loss: 0.0085\n",
            "Epoch 77/300\n",
            "1/1 [==============================] - 0s 37ms/step - loss: 0.0062 - val_loss: 0.0084\n",
            "Epoch 78/300\n",
            "1/1 [==============================] - 0s 36ms/step - loss: 0.0061 - val_loss: 0.0083\n",
            "Epoch 79/300\n",
            "1/1 [==============================] - 0s 54ms/step - loss: 0.0060 - val_loss: 0.0083\n",
            "Epoch 80/300\n",
            "1/1 [==============================] - 0s 37ms/step - loss: 0.0059 - val_loss: 0.0082\n",
            "Epoch 81/300\n",
            "1/1 [==============================] - 0s 35ms/step - loss: 0.0059 - val_loss: 0.0081\n",
            "Epoch 82/300\n",
            "1/1 [==============================] - 0s 36ms/step - loss: 0.0058 - val_loss: 0.0081\n",
            "Epoch 83/300\n",
            "1/1 [==============================] - 0s 40ms/step - loss: 0.0057 - val_loss: 0.0080\n",
            "Epoch 84/300\n",
            "1/1 [==============================] - 0s 43ms/step - loss: 0.0056 - val_loss: 0.0079\n",
            "Epoch 85/300\n",
            "1/1 [==============================] - 0s 40ms/step - loss: 0.0056 - val_loss: 0.0079\n",
            "Epoch 86/300\n",
            "1/1 [==============================] - 0s 37ms/step - loss: 0.0055 - val_loss: 0.0078\n",
            "Epoch 87/300\n",
            "1/1 [==============================] - 0s 37ms/step - loss: 0.0054 - val_loss: 0.0078\n",
            "Epoch 88/300\n",
            "1/1 [==============================] - 0s 57ms/step - loss: 0.0053 - val_loss: 0.0077\n",
            "Epoch 89/300\n",
            "1/1 [==============================] - 0s 36ms/step - loss: 0.0053 - val_loss: 0.0076\n",
            "Epoch 90/300\n",
            "1/1 [==============================] - 0s 35ms/step - loss: 0.0052 - val_loss: 0.0076\n",
            "Epoch 91/300\n",
            "1/1 [==============================] - 0s 36ms/step - loss: 0.0051 - val_loss: 0.0075\n",
            "Epoch 92/300\n",
            "1/1 [==============================] - 0s 38ms/step - loss: 0.0051 - val_loss: 0.0075\n",
            "Epoch 93/300\n",
            "1/1 [==============================] - 0s 39ms/step - loss: 0.0050 - val_loss: 0.0075\n",
            "Epoch 94/300\n",
            "1/1 [==============================] - 0s 36ms/step - loss: 0.0050 - val_loss: 0.0074\n",
            "Epoch 95/300\n",
            "1/1 [==============================] - 0s 42ms/step - loss: 0.0049 - val_loss: 0.0074\n",
            "Epoch 96/300\n",
            "1/1 [==============================] - 0s 38ms/step - loss: 0.0048 - val_loss: 0.0073\n",
            "Epoch 97/300\n",
            "1/1 [==============================] - 0s 39ms/step - loss: 0.0048 - val_loss: 0.0073\n",
            "Epoch 98/300\n",
            "1/1 [==============================] - 0s 40ms/step - loss: 0.0047 - val_loss: 0.0072\n",
            "Epoch 99/300\n",
            "1/1 [==============================] - 0s 40ms/step - loss: 0.0047 - val_loss: 0.0072\n",
            "Epoch 100/300\n",
            "1/1 [==============================] - 0s 39ms/step - loss: 0.0046 - val_loss: 0.0072\n",
            "Epoch 101/300\n",
            "1/1 [==============================] - 0s 36ms/step - loss: 0.0046 - val_loss: 0.0071\n",
            "Epoch 102/300\n",
            "1/1 [==============================] - 0s 44ms/step - loss: 0.0045 - val_loss: 0.0071\n",
            "Epoch 103/300\n",
            "1/1 [==============================] - 0s 39ms/step - loss: 0.0045 - val_loss: 0.0071\n",
            "Epoch 104/300\n",
            "1/1 [==============================] - 0s 40ms/step - loss: 0.0044 - val_loss: 0.0070\n",
            "Epoch 105/300\n",
            "1/1 [==============================] - 0s 43ms/step - loss: 0.0044 - val_loss: 0.0070\n",
            "Epoch 106/300\n",
            "1/1 [==============================] - 0s 38ms/step - loss: 0.0043 - val_loss: 0.0070\n",
            "Epoch 107/300\n",
            "1/1 [==============================] - 0s 35ms/step - loss: 0.0043 - val_loss: 0.0070\n",
            "Epoch 108/300\n",
            "1/1 [==============================] - 0s 35ms/step - loss: 0.0043 - val_loss: 0.0069\n",
            "Epoch 109/300\n",
            "1/1 [==============================] - 0s 41ms/step - loss: 0.0042 - val_loss: 0.0069\n",
            "Epoch 110/300\n",
            "1/1 [==============================] - 0s 35ms/step - loss: 0.0042 - val_loss: 0.0069\n",
            "Epoch 111/300\n",
            "1/1 [==============================] - 0s 37ms/step - loss: 0.0041 - val_loss: 0.0068\n",
            "Epoch 112/300\n",
            "1/1 [==============================] - 0s 45ms/step - loss: 0.0041 - val_loss: 0.0068\n",
            "Epoch 113/300\n",
            "1/1 [==============================] - 0s 39ms/step - loss: 0.0041 - val_loss: 0.0068\n",
            "Epoch 114/300\n",
            "1/1 [==============================] - 0s 38ms/step - loss: 0.0040 - val_loss: 0.0068\n",
            "Epoch 115/300\n",
            "1/1 [==============================] - 0s 35ms/step - loss: 0.0040 - val_loss: 0.0068\n",
            "Epoch 116/300\n",
            "1/1 [==============================] - 0s 46ms/step - loss: 0.0040 - val_loss: 0.0067\n",
            "Epoch 117/300\n",
            "1/1 [==============================] - 0s 47ms/step - loss: 0.0039 - val_loss: 0.0067\n",
            "Epoch 118/300\n",
            "1/1 [==============================] - 0s 39ms/step - loss: 0.0039 - val_loss: 0.0067\n",
            "Epoch 119/300\n",
            "1/1 [==============================] - 0s 37ms/step - loss: 0.0039 - val_loss: 0.0067\n",
            "Epoch 120/300\n",
            "1/1 [==============================] - 0s 39ms/step - loss: 0.0038 - val_loss: 0.0066\n",
            "Epoch 121/300\n",
            "1/1 [==============================] - 0s 37ms/step - loss: 0.0038 - val_loss: 0.0066\n",
            "Epoch 122/300\n",
            "1/1 [==============================] - 0s 56ms/step - loss: 0.0038 - val_loss: 0.0066\n",
            "Epoch 123/300\n",
            "1/1 [==============================] - 0s 38ms/step - loss: 0.0037 - val_loss: 0.0066\n",
            "Epoch 124/300\n",
            "1/1 [==============================] - 0s 40ms/step - loss: 0.0037 - val_loss: 0.0066\n",
            "Epoch 125/300\n",
            "1/1 [==============================] - 0s 43ms/step - loss: 0.0037 - val_loss: 0.0065\n",
            "Epoch 126/300\n",
            "1/1 [==============================] - 0s 42ms/step - loss: 0.0036 - val_loss: 0.0065\n",
            "Epoch 127/300\n",
            "1/1 [==============================] - 0s 40ms/step - loss: 0.0036 - val_loss: 0.0065\n",
            "Epoch 128/300\n",
            "1/1 [==============================] - 0s 37ms/step - loss: 0.0036 - val_loss: 0.0065\n",
            "Epoch 129/300\n",
            "1/1 [==============================] - 0s 38ms/step - loss: 0.0036 - val_loss: 0.0065\n",
            "Epoch 130/300\n",
            "1/1 [==============================] - 0s 40ms/step - loss: 0.0035 - val_loss: 0.0064\n",
            "Epoch 131/300\n",
            "1/1 [==============================] - 0s 38ms/step - loss: 0.0035 - val_loss: 0.0064\n",
            "Epoch 132/300\n",
            "1/1 [==============================] - 0s 39ms/step - loss: 0.0035 - val_loss: 0.0064\n",
            "Epoch 133/300\n",
            "1/1 [==============================] - 0s 38ms/step - loss: 0.0035 - val_loss: 0.0064\n",
            "Epoch 134/300\n",
            "1/1 [==============================] - 0s 36ms/step - loss: 0.0034 - val_loss: 0.0064\n",
            "Epoch 135/300\n",
            "1/1 [==============================] - 0s 36ms/step - loss: 0.0034 - val_loss: 0.0064\n",
            "Epoch 136/300\n",
            "1/1 [==============================] - 0s 45ms/step - loss: 0.0034 - val_loss: 0.0063\n",
            "Epoch 137/300\n",
            "1/1 [==============================] - 0s 39ms/step - loss: 0.0034 - val_loss: 0.0063\n",
            "Epoch 138/300\n",
            "1/1 [==============================] - 0s 38ms/step - loss: 0.0033 - val_loss: 0.0063\n",
            "Epoch 139/300\n",
            "1/1 [==============================] - 0s 39ms/step - loss: 0.0033 - val_loss: 0.0063\n",
            "Epoch 140/300\n",
            "1/1 [==============================] - 0s 48ms/step - loss: 0.0033 - val_loss: 0.0063\n",
            "Epoch 141/300\n",
            "1/1 [==============================] - 0s 42ms/step - loss: 0.0033 - val_loss: 0.0062\n",
            "Epoch 142/300\n",
            "1/1 [==============================] - 0s 38ms/step - loss: 0.0032 - val_loss: 0.0062\n",
            "Epoch 143/300\n",
            "1/1 [==============================] - 0s 38ms/step - loss: 0.0032 - val_loss: 0.0062\n",
            "Epoch 144/300\n",
            "1/1 [==============================] - 0s 67ms/step - loss: 0.0032 - val_loss: 0.0062\n",
            "Epoch 145/300\n",
            "1/1 [==============================] - 0s 56ms/step - loss: 0.0032 - val_loss: 0.0062\n",
            "Epoch 146/300\n",
            "1/1 [==============================] - 0s 58ms/step - loss: 0.0032 - val_loss: 0.0062\n",
            "Epoch 147/300\n",
            "1/1 [==============================] - 0s 54ms/step - loss: 0.0031 - val_loss: 0.0061\n",
            "Epoch 148/300\n",
            "1/1 [==============================] - 0s 66ms/step - loss: 0.0031 - val_loss: 0.0061\n",
            "Epoch 149/300\n",
            "1/1 [==============================] - 0s 71ms/step - loss: 0.0031 - val_loss: 0.0061\n",
            "Epoch 150/300\n",
            "1/1 [==============================] - 0s 71ms/step - loss: 0.0031 - val_loss: 0.0061\n",
            "Epoch 151/300\n",
            "1/1 [==============================] - 0s 61ms/step - loss: 0.0031 - val_loss: 0.0061\n",
            "Epoch 152/300\n",
            "1/1 [==============================] - 0s 68ms/step - loss: 0.0030 - val_loss: 0.0061\n",
            "Epoch 153/300\n",
            "1/1 [==============================] - 0s 51ms/step - loss: 0.0030 - val_loss: 0.0060\n",
            "Epoch 154/300\n",
            "1/1 [==============================] - 0s 55ms/step - loss: 0.0030 - val_loss: 0.0060\n",
            "Epoch 155/300\n",
            "1/1 [==============================] - 0s 69ms/step - loss: 0.0030 - val_loss: 0.0060\n",
            "Epoch 156/300\n",
            "1/1 [==============================] - 0s 59ms/step - loss: 0.0030 - val_loss: 0.0060\n",
            "Epoch 157/300\n",
            "1/1 [==============================] - 0s 71ms/step - loss: 0.0030 - val_loss: 0.0060\n",
            "Epoch 158/300\n",
            "1/1 [==============================] - 0s 54ms/step - loss: 0.0029 - val_loss: 0.0059\n",
            "Epoch 159/300\n",
            "1/1 [==============================] - 0s 74ms/step - loss: 0.0029 - val_loss: 0.0059\n",
            "Epoch 160/300\n",
            "1/1 [==============================] - 0s 72ms/step - loss: 0.0029 - val_loss: 0.0059\n",
            "Epoch 161/300\n",
            "1/1 [==============================] - 0s 61ms/step - loss: 0.0029 - val_loss: 0.0059\n",
            "Epoch 162/300\n",
            "1/1 [==============================] - 0s 49ms/step - loss: 0.0029 - val_loss: 0.0059\n",
            "Epoch 163/300\n",
            "1/1 [==============================] - 0s 56ms/step - loss: 0.0029 - val_loss: 0.0059\n",
            "Epoch 164/300\n",
            "1/1 [==============================] - 0s 74ms/step - loss: 0.0028 - val_loss: 0.0058\n",
            "Epoch 165/300\n",
            "1/1 [==============================] - 0s 47ms/step - loss: 0.0028 - val_loss: 0.0058\n",
            "Epoch 166/300\n",
            "1/1 [==============================] - 0s 47ms/step - loss: 0.0028 - val_loss: 0.0058\n",
            "Epoch 167/300\n",
            "1/1 [==============================] - 0s 53ms/step - loss: 0.0028 - val_loss: 0.0058\n",
            "Epoch 168/300\n",
            "1/1 [==============================] - 0s 53ms/step - loss: 0.0028 - val_loss: 0.0058\n",
            "Epoch 169/300\n",
            "1/1 [==============================] - 0s 43ms/step - loss: 0.0028 - val_loss: 0.0057\n",
            "Epoch 170/300\n",
            "1/1 [==============================] - 0s 46ms/step - loss: 0.0027 - val_loss: 0.0057\n",
            "Epoch 171/300\n",
            "1/1 [==============================] - 0s 48ms/step - loss: 0.0027 - val_loss: 0.0057\n",
            "Epoch 172/300\n",
            "1/1 [==============================] - 0s 46ms/step - loss: 0.0027 - val_loss: 0.0057\n",
            "Epoch 173/300\n",
            "1/1 [==============================] - 0s 49ms/step - loss: 0.0027 - val_loss: 0.0057\n",
            "Epoch 174/300\n",
            "1/1 [==============================] - 0s 72ms/step - loss: 0.0027 - val_loss: 0.0056\n",
            "Epoch 175/300\n",
            "1/1 [==============================] - 0s 70ms/step - loss: 0.0027 - val_loss: 0.0056\n",
            "Epoch 176/300\n",
            "1/1 [==============================] - 0s 50ms/step - loss: 0.0026 - val_loss: 0.0056\n",
            "Epoch 177/300\n",
            "1/1 [==============================] - 0s 65ms/step - loss: 0.0026 - val_loss: 0.0056\n",
            "Epoch 178/300\n",
            "1/1 [==============================] - 0s 69ms/step - loss: 0.0026 - val_loss: 0.0056\n",
            "Epoch 179/300\n",
            "1/1 [==============================] - 0s 74ms/step - loss: 0.0026 - val_loss: 0.0056\n",
            "Epoch 180/300\n",
            "1/1 [==============================] - 0s 58ms/step - loss: 0.0026 - val_loss: 0.0055\n",
            "Epoch 181/300\n",
            "1/1 [==============================] - 0s 64ms/step - loss: 0.0026 - val_loss: 0.0055\n",
            "Epoch 182/300\n",
            "1/1 [==============================] - 0s 74ms/step - loss: 0.0026 - val_loss: 0.0055\n",
            "Epoch 183/300\n",
            "1/1 [==============================] - 0s 69ms/step - loss: 0.0025 - val_loss: 0.0055\n",
            "Epoch 184/300\n",
            "1/1 [==============================] - 0s 80ms/step - loss: 0.0025 - val_loss: 0.0054\n",
            "Epoch 185/300\n",
            "1/1 [==============================] - 0s 51ms/step - loss: 0.0025 - val_loss: 0.0054\n",
            "Epoch 186/300\n",
            "1/1 [==============================] - 0s 50ms/step - loss: 0.0025 - val_loss: 0.0054\n",
            "Epoch 187/300\n",
            "1/1 [==============================] - 0s 59ms/step - loss: 0.0025 - val_loss: 0.0054\n",
            "Epoch 188/300\n",
            "1/1 [==============================] - 0s 62ms/step - loss: 0.0025 - val_loss: 0.0054\n",
            "Epoch 189/300\n",
            "1/1 [==============================] - 0s 80ms/step - loss: 0.0025 - val_loss: 0.0053\n",
            "Epoch 190/300\n",
            "1/1 [==============================] - 0s 58ms/step - loss: 0.0025 - val_loss: 0.0053\n",
            "Epoch 191/300\n",
            "1/1 [==============================] - 0s 55ms/step - loss: 0.0024 - val_loss: 0.0053\n",
            "Epoch 192/300\n",
            "1/1 [==============================] - 0s 68ms/step - loss: 0.0024 - val_loss: 0.0053\n",
            "Epoch 193/300\n",
            "1/1 [==============================] - 0s 54ms/step - loss: 0.0024 - val_loss: 0.0053\n",
            "Epoch 194/300\n",
            "1/1 [==============================] - 0s 72ms/step - loss: 0.0024 - val_loss: 0.0052\n",
            "Epoch 195/300\n",
            "1/1 [==============================] - 0s 73ms/step - loss: 0.0024 - val_loss: 0.0052\n",
            "Epoch 196/300\n",
            "1/1 [==============================] - 0s 72ms/step - loss: 0.0024 - val_loss: 0.0052\n",
            "Epoch 197/300\n",
            "1/1 [==============================] - 0s 72ms/step - loss: 0.0024 - val_loss: 0.0052\n",
            "Epoch 198/300\n",
            "1/1 [==============================] - 0s 76ms/step - loss: 0.0023 - val_loss: 0.0052\n",
            "Epoch 199/300\n",
            "1/1 [==============================] - 0s 58ms/step - loss: 0.0023 - val_loss: 0.0051\n",
            "Epoch 200/300\n",
            "1/1 [==============================] - 0s 48ms/step - loss: 0.0023 - val_loss: 0.0051\n",
            "Epoch 201/300\n",
            "1/1 [==============================] - 0s 50ms/step - loss: 0.0023 - val_loss: 0.0051\n",
            "Epoch 202/300\n",
            "1/1 [==============================] - 0s 48ms/step - loss: 0.0023 - val_loss: 0.0051\n",
            "Epoch 203/300\n",
            "1/1 [==============================] - 0s 61ms/step - loss: 0.0023 - val_loss: 0.0050\n",
            "Epoch 204/300\n",
            "1/1 [==============================] - 0s 63ms/step - loss: 0.0023 - val_loss: 0.0050\n",
            "Epoch 205/300\n",
            "1/1 [==============================] - 0s 80ms/step - loss: 0.0023 - val_loss: 0.0050\n",
            "Epoch 206/300\n",
            "1/1 [==============================] - 0s 91ms/step - loss: 0.0022 - val_loss: 0.0050\n",
            "Epoch 207/300\n",
            "1/1 [==============================] - 0s 70ms/step - loss: 0.0022 - val_loss: 0.0050\n",
            "Epoch 208/300\n",
            "1/1 [==============================] - 0s 52ms/step - loss: 0.0022 - val_loss: 0.0049\n",
            "Epoch 209/300\n",
            "1/1 [==============================] - 0s 46ms/step - loss: 0.0022 - val_loss: 0.0049\n",
            "Epoch 210/300\n",
            "1/1 [==============================] - 0s 47ms/step - loss: 0.0022 - val_loss: 0.0049\n",
            "Epoch 211/300\n",
            "1/1 [==============================] - 0s 65ms/step - loss: 0.0022 - val_loss: 0.0049\n",
            "Epoch 212/300\n",
            "1/1 [==============================] - 0s 70ms/step - loss: 0.0022 - val_loss: 0.0048\n",
            "Epoch 213/300\n",
            "1/1 [==============================] - 0s 39ms/step - loss: 0.0022 - val_loss: 0.0048\n",
            "Epoch 214/300\n",
            "1/1 [==============================] - 0s 41ms/step - loss: 0.0021 - val_loss: 0.0048\n",
            "Epoch 215/300\n",
            "1/1 [==============================] - 0s 43ms/step - loss: 0.0021 - val_loss: 0.0048\n",
            "Epoch 216/300\n",
            "1/1 [==============================] - 0s 39ms/step - loss: 0.0021 - val_loss: 0.0048\n",
            "Epoch 217/300\n",
            "1/1 [==============================] - 0s 38ms/step - loss: 0.0021 - val_loss: 0.0047\n",
            "Epoch 218/300\n",
            "1/1 [==============================] - 0s 40ms/step - loss: 0.0021 - val_loss: 0.0047\n",
            "Epoch 219/300\n",
            "1/1 [==============================] - 0s 40ms/step - loss: 0.0021 - val_loss: 0.0047\n",
            "Epoch 220/300\n",
            "1/1 [==============================] - 0s 37ms/step - loss: 0.0021 - val_loss: 0.0047\n",
            "Epoch 221/300\n",
            "1/1 [==============================] - 0s 43ms/step - loss: 0.0021 - val_loss: 0.0046\n",
            "Epoch 222/300\n",
            "1/1 [==============================] - 0s 36ms/step - loss: 0.0020 - val_loss: 0.0046\n",
            "Epoch 223/300\n",
            "1/1 [==============================] - 0s 46ms/step - loss: 0.0020 - val_loss: 0.0046\n",
            "Epoch 224/300\n",
            "1/1 [==============================] - 0s 42ms/step - loss: 0.0020 - val_loss: 0.0046\n",
            "Epoch 225/300\n",
            "1/1 [==============================] - 0s 38ms/step - loss: 0.0020 - val_loss: 0.0046\n",
            "Epoch 226/300\n",
            "1/1 [==============================] - 0s 44ms/step - loss: 0.0020 - val_loss: 0.0045\n",
            "Epoch 227/300\n",
            "1/1 [==============================] - 0s 43ms/step - loss: 0.0020 - val_loss: 0.0045\n",
            "Epoch 228/300\n",
            "1/1 [==============================] - 0s 37ms/step - loss: 0.0020 - val_loss: 0.0045\n",
            "Epoch 229/300\n",
            "1/1 [==============================] - 0s 42ms/step - loss: 0.0020 - val_loss: 0.0045\n",
            "Epoch 230/300\n",
            "1/1 [==============================] - 0s 42ms/step - loss: 0.0020 - val_loss: 0.0044\n",
            "Epoch 231/300\n",
            "1/1 [==============================] - 0s 42ms/step - loss: 0.0019 - val_loss: 0.0044\n",
            "Epoch 232/300\n",
            "1/1 [==============================] - 0s 44ms/step - loss: 0.0019 - val_loss: 0.0044\n",
            "Epoch 233/300\n",
            "1/1 [==============================] - 0s 40ms/step - loss: 0.0019 - val_loss: 0.0044\n",
            "Epoch 234/300\n",
            "1/1 [==============================] - 0s 41ms/step - loss: 0.0019 - val_loss: 0.0043\n",
            "Epoch 235/300\n",
            "1/1 [==============================] - 0s 56ms/step - loss: 0.0019 - val_loss: 0.0043\n",
            "Epoch 236/300\n",
            "1/1 [==============================] - 0s 39ms/step - loss: 0.0019 - val_loss: 0.0043\n",
            "Epoch 237/300\n",
            "1/1 [==============================] - 0s 37ms/step - loss: 0.0019 - val_loss: 0.0043\n",
            "Epoch 238/300\n",
            "1/1 [==============================] - 0s 37ms/step - loss: 0.0019 - val_loss: 0.0043\n",
            "Epoch 239/300\n",
            "1/1 [==============================] - 0s 36ms/step - loss: 0.0019 - val_loss: 0.0042\n",
            "Epoch 240/300\n",
            "1/1 [==============================] - 0s 41ms/step - loss: 0.0018 - val_loss: 0.0042\n",
            "Epoch 241/300\n",
            "1/1 [==============================] - 0s 57ms/step - loss: 0.0018 - val_loss: 0.0042\n",
            "Epoch 242/300\n",
            "1/1 [==============================] - 0s 40ms/step - loss: 0.0018 - val_loss: 0.0042\n",
            "Epoch 243/300\n",
            "1/1 [==============================] - 0s 38ms/step - loss: 0.0018 - val_loss: 0.0042\n",
            "Epoch 244/300\n",
            "1/1 [==============================] - 0s 41ms/step - loss: 0.0018 - val_loss: 0.0041\n",
            "Epoch 245/300\n",
            "1/1 [==============================] - 0s 52ms/step - loss: 0.0018 - val_loss: 0.0041\n",
            "Epoch 246/300\n",
            "1/1 [==============================] - 0s 38ms/step - loss: 0.0018 - val_loss: 0.0041\n",
            "Epoch 247/300\n",
            "1/1 [==============================] - 0s 38ms/step - loss: 0.0018 - val_loss: 0.0041\n",
            "Epoch 248/300\n",
            "1/1 [==============================] - 0s 43ms/step - loss: 0.0018 - val_loss: 0.0040\n",
            "Epoch 249/300\n",
            "1/1 [==============================] - 0s 37ms/step - loss: 0.0018 - val_loss: 0.0040\n",
            "Epoch 250/300\n",
            "1/1 [==============================] - 0s 42ms/step - loss: 0.0017 - val_loss: 0.0040\n",
            "Epoch 251/300\n",
            "1/1 [==============================] - 0s 42ms/step - loss: 0.0017 - val_loss: 0.0040\n",
            "Epoch 252/300\n",
            "1/1 [==============================] - 0s 44ms/step - loss: 0.0017 - val_loss: 0.0040\n",
            "Epoch 253/300\n",
            "1/1 [==============================] - 0s 44ms/step - loss: 0.0017 - val_loss: 0.0039\n",
            "Epoch 254/300\n",
            "1/1 [==============================] - 0s 37ms/step - loss: 0.0017 - val_loss: 0.0039\n",
            "Epoch 255/300\n",
            "1/1 [==============================] - 0s 36ms/step - loss: 0.0017 - val_loss: 0.0039\n",
            "Epoch 256/300\n",
            "1/1 [==============================] - 0s 40ms/step - loss: 0.0017 - val_loss: 0.0039\n",
            "Epoch 257/300\n",
            "1/1 [==============================] - 0s 41ms/step - loss: 0.0017 - val_loss: 0.0039\n",
            "Epoch 258/300\n",
            "1/1 [==============================] - 0s 38ms/step - loss: 0.0017 - val_loss: 0.0038\n",
            "Epoch 259/300\n",
            "1/1 [==============================] - 0s 62ms/step - loss: 0.0017 - val_loss: 0.0038\n",
            "Epoch 260/300\n",
            "1/1 [==============================] - 0s 40ms/step - loss: 0.0017 - val_loss: 0.0038\n",
            "Epoch 261/300\n",
            "1/1 [==============================] - 0s 39ms/step - loss: 0.0016 - val_loss: 0.0038\n",
            "Epoch 262/300\n",
            "1/1 [==============================] - 0s 42ms/step - loss: 0.0016 - val_loss: 0.0038\n",
            "Epoch 263/300\n",
            "1/1 [==============================] - 0s 41ms/step - loss: 0.0016 - val_loss: 0.0037\n",
            "Epoch 264/300\n",
            "1/1 [==============================] - 0s 42ms/step - loss: 0.0016 - val_loss: 0.0037\n",
            "Epoch 265/300\n",
            "1/1 [==============================] - 0s 41ms/step - loss: 0.0016 - val_loss: 0.0037\n",
            "Epoch 266/300\n",
            "1/1 [==============================] - 0s 42ms/step - loss: 0.0016 - val_loss: 0.0037\n",
            "Epoch 267/300\n",
            "1/1 [==============================] - 0s 40ms/step - loss: 0.0016 - val_loss: 0.0037\n",
            "Epoch 268/300\n",
            "1/1 [==============================] - 0s 50ms/step - loss: 0.0016 - val_loss: 0.0037\n",
            "Epoch 269/300\n",
            "1/1 [==============================] - 0s 44ms/step - loss: 0.0016 - val_loss: 0.0036\n",
            "Epoch 270/300\n",
            "1/1 [==============================] - 0s 43ms/step - loss: 0.0016 - val_loss: 0.0036\n",
            "Epoch 271/300\n",
            "1/1 [==============================] - 0s 38ms/step - loss: 0.0016 - val_loss: 0.0036\n",
            "Epoch 272/300\n",
            "1/1 [==============================] - 0s 40ms/step - loss: 0.0016 - val_loss: 0.0036\n",
            "Epoch 273/300\n",
            "1/1 [==============================] - 0s 41ms/step - loss: 0.0015 - val_loss: 0.0036\n",
            "Epoch 274/300\n",
            "1/1 [==============================] - 0s 44ms/step - loss: 0.0015 - val_loss: 0.0035\n",
            "Epoch 275/300\n",
            "1/1 [==============================] - 0s 41ms/step - loss: 0.0015 - val_loss: 0.0035\n",
            "Epoch 276/300\n",
            "1/1 [==============================] - 0s 39ms/step - loss: 0.0015 - val_loss: 0.0035\n",
            "Epoch 277/300\n",
            "1/1 [==============================] - 0s 40ms/step - loss: 0.0015 - val_loss: 0.0035\n",
            "Epoch 278/300\n",
            "1/1 [==============================] - 0s 45ms/step - loss: 0.0015 - val_loss: 0.0035\n",
            "Epoch 279/300\n",
            "1/1 [==============================] - 0s 42ms/step - loss: 0.0015 - val_loss: 0.0035\n",
            "Epoch 280/300\n",
            "1/1 [==============================] - 0s 38ms/step - loss: 0.0015 - val_loss: 0.0034\n",
            "Epoch 281/300\n",
            "1/1 [==============================] - 0s 58ms/step - loss: 0.0015 - val_loss: 0.0034\n",
            "Epoch 282/300\n",
            "1/1 [==============================] - 0s 56ms/step - loss: 0.0015 - val_loss: 0.0034\n",
            "Epoch 283/300\n",
            "1/1 [==============================] - 0s 42ms/step - loss: 0.0015 - val_loss: 0.0034\n",
            "Epoch 284/300\n",
            "1/1 [==============================] - 0s 38ms/step - loss: 0.0015 - val_loss: 0.0034\n",
            "Epoch 285/300\n",
            "1/1 [==============================] - 0s 43ms/step - loss: 0.0015 - val_loss: 0.0034\n",
            "Epoch 286/300\n",
            "1/1 [==============================] - 0s 37ms/step - loss: 0.0015 - val_loss: 0.0034\n",
            "Epoch 287/300\n",
            "1/1 [==============================] - 0s 39ms/step - loss: 0.0014 - val_loss: 0.0033\n",
            "Epoch 288/300\n",
            "1/1 [==============================] - 0s 43ms/step - loss: 0.0014 - val_loss: 0.0033\n",
            "Epoch 289/300\n",
            "1/1 [==============================] - 0s 42ms/step - loss: 0.0014 - val_loss: 0.0033\n",
            "Epoch 290/300\n",
            "1/1 [==============================] - 0s 41ms/step - loss: 0.0014 - val_loss: 0.0033\n",
            "Epoch 291/300\n",
            "1/1 [==============================] - 0s 41ms/step - loss: 0.0014 - val_loss: 0.0033\n",
            "Epoch 292/300\n",
            "1/1 [==============================] - 0s 40ms/step - loss: 0.0014 - val_loss: 0.0033\n",
            "Epoch 293/300\n",
            "1/1 [==============================] - 0s 43ms/step - loss: 0.0014 - val_loss: 0.0033\n",
            "Epoch 294/300\n",
            "1/1 [==============================] - 0s 41ms/step - loss: 0.0014 - val_loss: 0.0032\n",
            "Epoch 295/300\n",
            "1/1 [==============================] - 0s 38ms/step - loss: 0.0014 - val_loss: 0.0032\n",
            "Epoch 296/300\n",
            "1/1 [==============================] - 0s 43ms/step - loss: 0.0014 - val_loss: 0.0032\n",
            "Epoch 297/300\n",
            "1/1 [==============================] - 0s 42ms/step - loss: 0.0014 - val_loss: 0.0032\n",
            "Epoch 298/300\n",
            "1/1 [==============================] - 0s 42ms/step - loss: 0.0014 - val_loss: 0.0032\n",
            "Epoch 299/300\n",
            "1/1 [==============================] - 0s 44ms/step - loss: 0.0014 - val_loss: 0.0032\n",
            "Epoch 300/300\n",
            "1/1 [==============================] - 0s 41ms/step - loss: 0.0014 - val_loss: 0.0032\n"
          ]
        }
      ]
    },
    {
      "cell_type": "code",
      "source": [
        "conv_encoder = Model(x, h)\n",
        "encoded_imgs = conv_encoder.predict(X_test)\n",
        "\n",
        "n = 1\n",
        "plt.figure(figsize=(28, 10))\n",
        "for i in range(n):\n",
        "    ax = plt.subplot(1, n, i+1)\n",
        "    plt.imshow(encoded_imgs[i].reshape(4, 16).T)\n",
        "    plt.gray()\n",
        "    ax.get_xaxis().set_visible(False)\n",
        "    ax.get_yaxis().set_visible(False)\n",
        "plt.show()"
      ],
      "metadata": {
        "colab": {
          "base_uri": "https://localhost:8080/",
          "height": 595
        },
        "id": "QLmpqHMBevu5",
        "outputId": "09ccaeb1-cc4a-4c67-f97f-077f9c33cb15"
      },
      "execution_count": 15,
      "outputs": [
        {
          "output_type": "stream",
          "name": "stdout",
          "text": [
            "1/1 [==============================] - 0s 73ms/step\n"
          ]
        },
        {
          "output_type": "display_data",
          "data": {
            "text/plain": [
              "<Figure size 2016x720 with 1 Axes>"
            ],
            "image/png": "[encoded data removed]"
          },
          "metadata": {
            "needs_background": "light"
          }
        }
      ]
    },
    {
      "cell_type": "code",
      "source": [
        "decoded_imgs = autoencoder.predict(X_test)\n"
      ],
      "metadata": {
        "colab": {
          "base_uri": "https://localhost:8080/"
        },
        "id": "ExA7kO63eyvD",
        "outputId": "6d016625-f078-4c7a-cfc9-9d99a55c23ed"
      },
      "execution_count": 16,
      "outputs": [
        {
          "output_type": "stream",
          "name": "stdout",
          "text": [
            "1/1 [==============================] - 0s 48ms/step\n"
          ]
        }
      ]
    },
    {
      "cell_type": "code",
      "source": [
        "n = 1\n",
        "plt.figure(figsize=(28, 28))\n",
        "for i in range(n):\n",
        "    # display original\n",
        "    ax = plt.subplot(3, n, i+1)\n",
        "    plt.imshow(X_test[i].reshape(28, 28),cmap=\"gist_earth\")\n",
        "    plt.gray()\n",
        "    ax.get_xaxis().set_visible(False)\n",
        "    ax.get_yaxis().set_visible(False)\n",
        "plt.show()\n"
      ],
      "metadata": {
        "colab": {
          "base_uri": "https://localhost:8080/",
          "height": 482
        },
        "id": "SSiPSKeNfgce",
        "outputId": "4e07e5a0-041b-46b5-eb27-57990c175588"
      },
      "execution_count": 17,
      "outputs": [
        {
          "output_type": "display_data",
          "data": {
            "text/plain": [
              "<Figure size 2016x2016 with 1 Axes>"
            ],
            "image/png": "[encoded data removed]"
          },
          "metadata": {
            "needs_background": "light"
          }
        }
      ]
    },
    {
      "cell_type": "code",
      "source": [
        "plt.figure(figsize=(28,28))\n",
        "for i in range(n):    \n",
        "    # display reconstruction\n",
        "    ax = plt.subplot(3, n, i+n+1)\n",
        "    plt.imshow(decoded_imgs[i].reshape(28, 28), cmap=\"gist_earth\")\n",
        "    # plt.gray()\n",
        "    ax.get_xaxis().set_visible(False)\n",
        "    ax.get_yaxis().set_visible(False)\n",
        "    \n",
        "plt.show()"
      ],
      "metadata": {
        "colab": {
          "base_uri": "https://localhost:8080/",
          "height": 482
        },
        "id": "tOLD93oKgHb3",
        "outputId": "8ee482ad-da51-4256-bff8-b55b43bde33d"
      },
      "execution_count": 18,
      "outputs": [
        {
          "output_type": "display_data",
          "data": {
            "text/plain": [
              "<Figure size 2016x2016 with 1 Axes>"
            ],
            "image/png": "[encoded data removed]"
          },
          "metadata": {
            "needs_background": "light"
          }
        }
      ]
    },
    {
      "cell_type": "code",
      "source": [
        "print(history.history.keys())\n",
        "\n",
        "plt.plot(history.history['loss'])\n",
        "plt.plot(history.history['val_loss'])\n",
        "plt.title('model loss')\n",
        "plt.ylabel('loss')\n",
        "plt.xlabel('epoch')\n",
        "plt.legend(['train', 'validation'], loc='upper right')\n",
        "plt.show()"
      ],
      "metadata": {
        "colab": {
          "base_uri": "https://localhost:8080/",
          "height": 312
        },
        "id": "pJ9a9Kp2fiPO",
        "outputId": "9ae8d5a6-5e8f-4951-8f02-d7f14ba8cc3f"
      },
      "execution_count": 19,
      "outputs": [
        {
          "output_type": "stream",
          "name": "stdout",
          "text": [
            "dict_keys(['loss', 'val_loss'])\n"
          ]
        },
        {
          "output_type": "display_data",
          "data": {
            "text/plain": [
              "<Figure size 432x288 with 1 Axes>"
            ],
            "image/png": "[encoded data removed]"
          },
          "metadata": {
            "needs_background": "light"
          }
        }
      ]
    },
    {
      "cell_type": "code",
      "source": [
        "import tensorflow as tf\n",
        "\n",
        "for i in range(n):\n",
        "  print(\"Error or loss for the image \"+str(i))\n",
        "  print(tf.math.reduce_mean(tf.square(decoded_imgs[i].reshape(28, 28)-X_test[i].reshape(28, 28))))\n",
        "  print(\"------------------------------------------------------------------\")"
      ],
      "metadata": {
        "colab": {
          "base_uri": "https://localhost:8080/"
        },
        "id": "65L7IaM-foed",
        "outputId": "e3dcdef3-5efe-4a13-d316-4285f8c16f8f"
      },
      "execution_count": 20,
      "outputs": [
        {
          "output_type": "stream",
          "name": "stdout",
          "text": [
            "Error or loss for the image 0\n",
            "tf.Tensor(0.008771655, shape=(), dtype=float32)\n",
            "------------------------------------------------------------------\n"
          ]
        }
      ]
    },
    {
      "cell_type": "code",
      "source": [],
      "metadata": {
        "id": "wbaHstUEr_AA"
      },
      "execution_count": 20,
      "outputs": []
    }
  ]
}