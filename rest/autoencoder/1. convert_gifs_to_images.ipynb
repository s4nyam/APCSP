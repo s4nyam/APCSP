{
  "nbformat": 4,
  "nbformat_minor": 0,
  "metadata": {
    "colab": {
      "provenance": []
    },
    "kernelspec": {
      "name": "python3",
      "display_name": "Python 3"
    },
    "language_info": {
      "name": "python"
    }
  },
  "cells": [
    {
      "cell_type": "code",
      "source": [
        "from google.colab import drive\n",
        "drive.mount('/content/drive')"
      ],
      "metadata": {
        "colab": {
          "base_uri": "https://localhost:8080/"
        },
        "id": "TeVaoUuG8w-T",
        "outputId": "01ebd4c3-fdcd-4c90-b378-e5e0f7807917"
      },
      "execution_count": 1,
      "outputs": [
        {
          "output_type": "stream",
          "name": "stdout",
          "text": [
            "Mounted at /content/drive\n"
          ]
        }
      ]
    },
    {
      "cell_type": "code",
      "source": [
        "!pwd"
      ],
      "metadata": {
        "colab": {
          "base_uri": "https://localhost:8080/"
        },
        "id": "HLBj87xL82xU",
        "outputId": "17744821-0256-4569-9d34-5003d92219b3"
      },
      "execution_count": 3,
      "outputs": [
        {
          "output_type": "stream",
          "name": "stdout",
          "text": [
            "/content\n"
          ]
        }
      ]
    },
    {
      "cell_type": "code",
      "source": [
        "%cd /content/drive/MyDrive/lenia10000/"
      ],
      "metadata": {
        "colab": {
          "base_uri": "https://localhost:8080/"
        },
        "id": "EdjoP2fu9DfB",
        "outputId": "7a9e815c-9df5-4377-afea-4141681b1048"
      },
      "execution_count": 4,
      "outputs": [
        {
          "output_type": "stream",
          "name": "stdout",
          "text": [
            "/content/drive/MyDrive/lenia10000\n"
          ]
        }
      ]
    },
    {
      "cell_type": "code",
      "source": [
        "%cd /content/drive/MyDrive/\n",
        "!mkdir lenia_dataset\n",
        "%cd /content/drive/MyDrive/\n",
        "!ls lenia10000\n",
        "!ls lenia_dataset"
      ],
      "metadata": {
        "colab": {
          "base_uri": "https://localhost:8080/"
        },
        "id": "PW8YLGP39X7Z",
        "outputId": "838f6e74-7cb7-45de-b073-9d99a34e3eb1"
      },
      "execution_count": 5,
      "outputs": [
        {
          "output_type": "stream",
          "name": "stdout",
          "text": [
            "/content/drive/MyDrive\n",
            "/content/drive/MyDrive\n",
            "new_outputs\n"
          ]
        }
      ]
    },
    {
      "cell_type": "code",
      "source": [
        "!pwd"
      ],
      "metadata": {
        "colab": {
          "base_uri": "https://localhost:8080/"
        },
        "id": "Qu1QnEzZ9oVn",
        "outputId": "2e0645c1-5097-45ba-e900-c65ec805637d"
      },
      "execution_count": 6,
      "outputs": [
        {
          "output_type": "stream",
          "name": "stdout",
          "text": [
            "/content/drive/MyDrive\n"
          ]
        }
      ]
    },
    {
      "cell_type": "code",
      "source": [
        "!ls lenia10000/new_outputs"
      ],
      "metadata": {
        "id": "I6ml7C4-9wcs"
      },
      "execution_count": null,
      "outputs": []
    },
    {
      "cell_type": "code",
      "source": [
        "!ls lenia_dataset"
      ],
      "metadata": {
        "id": "QtGRChPT9x9z"
      },
      "execution_count": 8,
      "outputs": []
    },
    {
      "cell_type": "code",
      "source": [
        "import os\n",
        "from PIL import Image\n",
        "\n",
        "def convert_gif_to_images(input_folder_path, output_folder_name):\n",
        "    # Create the output folder if it doesn't already exist\n",
        "    output_folder_path = os.path.join(input_folder_path, output_folder_name)\n",
        "    if not os.path.exists(output_folder_path):\n",
        "        os.makedirs(output_folder_path)\n",
        "\n",
        "    # Loop over all the files in the input folder\n",
        "    for filename in os.listdir(input_folder_path):\n",
        "        # Check if the file is a gif image\n",
        "        if filename.endswith('.gif'):\n",
        "            # Open the gif image and loop over its frames\n",
        "            with Image.open(os.path.join(input_folder_path, filename)) as im:\n",
        "                for i, frame in enumerate(iter(lambda: im.convert('RGBA').getdata(), None)):\n",
        "                    # Save each frame as a separate image\n",
        "                    output_filename = os.path.join(output_folder_path, f\"{os.path.splitext(filename)[0]}_{i}.png\")\n",
        "                    frame_im = Image.new('RGBA', im.size, (255, 255, 255, 0))\n",
        "                    frame_im.putdata(frame)\n",
        "                    frame_im.save(output_filename)\n",
        "\n",
        "    print(f\"Successfully converted gif images in {input_folder_path} to images in {output_folder_path}\")\n"
      ],
      "metadata": {
        "id": "nX0oYSgM91kl"
      },
      "execution_count": 10,
      "outputs": []
    },
    {
      "cell_type": "code",
      "source": [
        "convert_gif_to_images(\"/content/drive/MyDrive/lenia10000/new_outputs\", \"/content/drive/MyDrive/lenia_dataset\")"
      ],
      "metadata": {
        "id": "xzGfpiFn-BXL"
      },
      "execution_count": null,
      "outputs": []
    },
    {
      "cell_type": "code",
      "source": [],
      "metadata": {
        "id": "0sWdazEZ-Qv0"
      },
      "execution_count": null,
      "outputs": []
    }
  ]
}